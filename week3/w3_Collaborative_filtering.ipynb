{
  "nbformat": 4,
  "nbformat_minor": 0,
  "metadata": {
    "colab": {
      "name": "w3_Collaborative filtering.ipynb",
      "provenance": [],
      "collapsed_sections": [
        "TJ6Fn9n_SDVA",
        "dYjFrHJOTD1S"
      ],
      "authorship_tag": "ABX9TyMoVelEsTM8ZGAw8gbYFuBP",
      "include_colab_link": true
    },
    "kernelspec": {
      "name": "python3",
      "display_name": "Python 3"
    },
    "language_info": {
      "name": "python"
    },
    "accelerator": "TPU"
  },
  "cells": [
    {
      "cell_type": "markdown",
      "metadata": {
        "id": "view-in-github",
        "colab_type": "text"
      },
      "source": [
        "<a href=\"https://colab.research.google.com/github/ianfanggis/ac-data-course/blob/main/w3_Collaborative_filtering.ipynb\" target=\"_parent\"><img src=\"https://colab.research.google.com/assets/colab-badge.svg\" alt=\"Open In Colab\"/></a>"
      ]
    },
    {
      "cell_type": "code",
      "source": [
        "!pip install surprise"
      ],
      "metadata": {
        "colab": {
          "base_uri": "https://localhost:8080/"
        },
        "id": "vFdNgKWyNGqW",
        "outputId": "b54917fe-775d-4c48-e248-88e2dd2420e4"
      },
      "execution_count": 1,
      "outputs": [
        {
          "output_type": "stream",
          "name": "stdout",
          "text": [
            "Requirement already satisfied: surprise in /usr/local/lib/python3.7/dist-packages (0.1)\n",
            "Requirement already satisfied: scikit-surprise in /usr/local/lib/python3.7/dist-packages (from surprise) (1.1.1)\n",
            "Requirement already satisfied: numpy>=1.11.2 in /usr/local/lib/python3.7/dist-packages (from scikit-surprise->surprise) (1.19.5)\n",
            "Requirement already satisfied: six>=1.10.0 in /usr/local/lib/python3.7/dist-packages (from scikit-surprise->surprise) (1.15.0)\n",
            "Requirement already satisfied: joblib>=0.11 in /usr/local/lib/python3.7/dist-packages (from scikit-surprise->surprise) (1.1.0)\n",
            "Requirement already satisfied: scipy>=1.0.0 in /usr/local/lib/python3.7/dist-packages (from scikit-surprise->surprise) (1.4.1)\n"
          ]
        }
      ]
    },
    {
      "cell_type": "code",
      "source": [
        "from surprise import Reader, Dataset, KNNBasic\n",
        "import time"
      ],
      "metadata": {
        "id": "Pa9-TkNZNOZ1"
      },
      "execution_count": 2,
      "outputs": []
    },
    {
      "cell_type": "code",
      "source": [
        "import numpy as np\n",
        "import re\n",
        "\n",
        "import plotly.express as px\n",
        "import matplotlib.pyplot as plt\n",
        "\n",
        "from itertools import combinations\n",
        "from collections import defaultdict"
      ],
      "metadata": {
        "id": "3JLf3AeHNZbk"
      },
      "execution_count": 3,
      "outputs": []
    },
    {
      "cell_type": "code",
      "source": [
        "import pandas as pd\n",
        "import gzip, json\n",
        "\n",
        "def parse(path):\n",
        "    g = gzip.open(path, 'rb')\n",
        "    for l in g:\n",
        "        yield json.loads(l)\n",
        "\n",
        "def getDF(path):\n",
        "    i = 0\n",
        "    df = {}\n",
        "    for d in parse(path):\n",
        "        df[i] = d\n",
        "        i += 1\n",
        "    return pd.DataFrame.from_dict(df, orient='index')"
      ],
      "metadata": {
        "id": "PyIVAnWxNeRk"
      },
      "execution_count": 4,
      "outputs": []
    },
    {
      "cell_type": "code",
      "source": [
        "!wget http://deepyeti.ucsd.edu/jianmo/amazon/categoryFilesSmall/All_Beauty.csv\n",
        "!wget http://deepyeti.ucsd.edu/jianmo/amazon/metaFiles2/meta_All_Beauty.json.gz"
      ],
      "metadata": {
        "colab": {
          "base_uri": "https://localhost:8080/"
        },
        "id": "tpgYJKtENjzj",
        "outputId": "fd114169-2a78-4c19-dcb2-da782ecdb0ae"
      },
      "execution_count": 5,
      "outputs": [
        {
          "output_type": "stream",
          "name": "stdout",
          "text": [
            "--2022-01-09 11:01:58--  http://deepyeti.ucsd.edu/jianmo/amazon/categoryFilesSmall/All_Beauty.csv\n",
            "Resolving deepyeti.ucsd.edu (deepyeti.ucsd.edu)... 169.228.63.50\n",
            "Connecting to deepyeti.ucsd.edu (deepyeti.ucsd.edu)|169.228.63.50|:80... connected.\n",
            "HTTP request sent, awaiting response... 200 OK\n",
            "Length: 15499476 (15M) [application/octet-stream]\n",
            "Saving to: ‘All_Beauty.csv.1’\n",
            "\n",
            "All_Beauty.csv.1    100%[===================>]  14.78M  24.6MB/s    in 0.6s    \n",
            "\n",
            "2022-01-09 11:01:59 (24.6 MB/s) - ‘All_Beauty.csv.1’ saved [15499476/15499476]\n",
            "\n",
            "--2022-01-09 11:01:59--  http://deepyeti.ucsd.edu/jianmo/amazon/metaFiles2/meta_All_Beauty.json.gz\n",
            "Resolving deepyeti.ucsd.edu (deepyeti.ucsd.edu)... 169.228.63.50\n",
            "Connecting to deepyeti.ucsd.edu (deepyeti.ucsd.edu)|169.228.63.50|:80... connected.\n",
            "HTTP request sent, awaiting response... 200 OK\n",
            "Length: 10329961 (9.9M) [application/octet-stream]\n",
            "Saving to: ‘meta_All_Beauty.json.gz.1’\n",
            "\n",
            "meta_All_Beauty.jso 100%[===================>]   9.85M  18.6MB/s    in 0.5s    \n",
            "\n",
            "2022-01-09 11:02:00 (18.6 MB/s) - ‘meta_All_Beauty.json.gz.1’ saved [10329961/10329961]\n",
            "\n"
          ]
        }
      ]
    },
    {
      "cell_type": "markdown",
      "source": [
        "#### metadata資訊\n",
        "* asin - ID of the product, e.g. 0000031852 ← 商品 ID\n",
        "* title - name of the product\n",
        "* feature - bullet-point format features of the product\n",
        "* description - description of the product\n",
        "* price - price in US dollars (at time of crawl)\n",
        "* imageURL - url of the product image\n",
        "* imageURL - url of the high resolution product image\n",
        "* related - related products (also bought, also viewed, bought together, buy after viewing)\n",
        "* salesRank - sales rank information\n",
        "* brand - brand name\n",
        "* categories - list of categories the product belongs to\n",
        "* tech1 - the first technical detail table of the product\n",
        "* tech2 - the second technical detail table of the product\n",
        "* similar - similar product table\n",
        "\n"
      ],
      "metadata": {
        "id": "TJ6Fn9n_SDVA"
      }
    },
    {
      "cell_type": "code",
      "source": [
        "metadata = getDF('/content/meta_All_Beauty.json.gz')\n",
        "ratings = pd.read_csv('/content/All_Beauty.csv', names=['asin', 'reviewerID', 'overall', 'unixReviewTime'], header=None)"
      ],
      "metadata": {
        "id": "VIYnfZPDSAnh"
      },
      "execution_count": 6,
      "outputs": []
    },
    {
      "cell_type": "code",
      "source": [
        "metadata.head(2)"
      ],
      "metadata": {
        "colab": {
          "base_uri": "https://localhost:8080/",
          "height": 0
        },
        "id": "Lh9U2EavSHsm",
        "outputId": "c2e1bd68-f2f7-48b9-a98d-50656b04c123"
      },
      "execution_count": 7,
      "outputs": [
        {
          "output_type": "execute_result",
          "data": {
            "text/html": [
              "\n",
              "  <div id=\"df-35a462e8-6f3d-42eb-b8d0-d531a4f8f9bc\">\n",
              "    <div class=\"colab-df-container\">\n",
              "      <div>\n",
              "<style scoped>\n",
              "    .dataframe tbody tr th:only-of-type {\n",
              "        vertical-align: middle;\n",
              "    }\n",
              "\n",
              "    .dataframe tbody tr th {\n",
              "        vertical-align: top;\n",
              "    }\n",
              "\n",
              "    .dataframe thead th {\n",
              "        text-align: right;\n",
              "    }\n",
              "</style>\n",
              "<table border=\"1\" class=\"dataframe\">\n",
              "  <thead>\n",
              "    <tr style=\"text-align: right;\">\n",
              "      <th></th>\n",
              "      <th>category</th>\n",
              "      <th>tech1</th>\n",
              "      <th>description</th>\n",
              "      <th>fit</th>\n",
              "      <th>title</th>\n",
              "      <th>also_buy</th>\n",
              "      <th>tech2</th>\n",
              "      <th>brand</th>\n",
              "      <th>feature</th>\n",
              "      <th>rank</th>\n",
              "      <th>also_view</th>\n",
              "      <th>details</th>\n",
              "      <th>main_cat</th>\n",
              "      <th>similar_item</th>\n",
              "      <th>date</th>\n",
              "      <th>price</th>\n",
              "      <th>asin</th>\n",
              "      <th>imageURL</th>\n",
              "      <th>imageURLHighRes</th>\n",
              "    </tr>\n",
              "  </thead>\n",
              "  <tbody>\n",
              "    <tr>\n",
              "      <th>0</th>\n",
              "      <td>[]</td>\n",
              "      <td></td>\n",
              "      <td>[Loud 'N Clear Personal Sound Amplifier allows...</td>\n",
              "      <td></td>\n",
              "      <td>Loud 'N Clear&amp;trade; Personal Sound Amplifier</td>\n",
              "      <td>[]</td>\n",
              "      <td></td>\n",
              "      <td>idea village</td>\n",
              "      <td>[]</td>\n",
              "      <td>2,938,573 in Beauty &amp; Personal Care (</td>\n",
              "      <td>[]</td>\n",
              "      <td>{'ASIN: ': '6546546450'}</td>\n",
              "      <td>All Beauty</td>\n",
              "      <td></td>\n",
              "      <td></td>\n",
              "      <td></td>\n",
              "      <td>6546546450</td>\n",
              "      <td>[]</td>\n",
              "      <td>[]</td>\n",
              "    </tr>\n",
              "    <tr>\n",
              "      <th>1</th>\n",
              "      <td>[]</td>\n",
              "      <td></td>\n",
              "      <td>[No7 Lift &amp; Luminate Triple Action Serum 50ml ...</td>\n",
              "      <td></td>\n",
              "      <td>No7 Lift &amp;amp; Luminate Triple Action Serum 50...</td>\n",
              "      <td>[B01E7LCSL6, B008X5RVME]</td>\n",
              "      <td></td>\n",
              "      <td></td>\n",
              "      <td>[]</td>\n",
              "      <td>872,854 in Beauty &amp; Personal Care (</td>\n",
              "      <td>[]</td>\n",
              "      <td>{'Shipping Weight:': '0.3 ounces (', 'ASIN: ':...</td>\n",
              "      <td>All Beauty</td>\n",
              "      <td>class=\"a-bordered a-horizontal-stripes  a-spa...</td>\n",
              "      <td></td>\n",
              "      <td>$44.99</td>\n",
              "      <td>7178680776</td>\n",
              "      <td>[]</td>\n",
              "      <td>[]</td>\n",
              "    </tr>\n",
              "  </tbody>\n",
              "</table>\n",
              "</div>\n",
              "      <button class=\"colab-df-convert\" onclick=\"convertToInteractive('df-35a462e8-6f3d-42eb-b8d0-d531a4f8f9bc')\"\n",
              "              title=\"Convert this dataframe to an interactive table.\"\n",
              "              style=\"display:none;\">\n",
              "        \n",
              "  <svg xmlns=\"http://www.w3.org/2000/svg\" height=\"24px\"viewBox=\"0 0 24 24\"\n",
              "       width=\"24px\">\n",
              "    <path d=\"M0 0h24v24H0V0z\" fill=\"none\"/>\n",
              "    <path d=\"M18.56 5.44l.94 2.06.94-2.06 2.06-.94-2.06-.94-.94-2.06-.94 2.06-2.06.94zm-11 1L8.5 8.5l.94-2.06 2.06-.94-2.06-.94L8.5 2.5l-.94 2.06-2.06.94zm10 10l.94 2.06.94-2.06 2.06-.94-2.06-.94-.94-2.06-.94 2.06-2.06.94z\"/><path d=\"M17.41 7.96l-1.37-1.37c-.4-.4-.92-.59-1.43-.59-.52 0-1.04.2-1.43.59L10.3 9.45l-7.72 7.72c-.78.78-.78 2.05 0 2.83L4 21.41c.39.39.9.59 1.41.59.51 0 1.02-.2 1.41-.59l7.78-7.78 2.81-2.81c.8-.78.8-2.07 0-2.86zM5.41 20L4 18.59l7.72-7.72 1.47 1.35L5.41 20z\"/>\n",
              "  </svg>\n",
              "      </button>\n",
              "      \n",
              "  <style>\n",
              "    .colab-df-container {\n",
              "      display:flex;\n",
              "      flex-wrap:wrap;\n",
              "      gap: 12px;\n",
              "    }\n",
              "\n",
              "    .colab-df-convert {\n",
              "      background-color: #E8F0FE;\n",
              "      border: none;\n",
              "      border-radius: 50%;\n",
              "      cursor: pointer;\n",
              "      display: none;\n",
              "      fill: #1967D2;\n",
              "      height: 32px;\n",
              "      padding: 0 0 0 0;\n",
              "      width: 32px;\n",
              "    }\n",
              "\n",
              "    .colab-df-convert:hover {\n",
              "      background-color: #E2EBFA;\n",
              "      box-shadow: 0px 1px 2px rgba(60, 64, 67, 0.3), 0px 1px 3px 1px rgba(60, 64, 67, 0.15);\n",
              "      fill: #174EA6;\n",
              "    }\n",
              "\n",
              "    [theme=dark] .colab-df-convert {\n",
              "      background-color: #3B4455;\n",
              "      fill: #D2E3FC;\n",
              "    }\n",
              "\n",
              "    [theme=dark] .colab-df-convert:hover {\n",
              "      background-color: #434B5C;\n",
              "      box-shadow: 0px 1px 3px 1px rgba(0, 0, 0, 0.15);\n",
              "      filter: drop-shadow(0px 1px 2px rgba(0, 0, 0, 0.3));\n",
              "      fill: #FFFFFF;\n",
              "    }\n",
              "  </style>\n",
              "\n",
              "      <script>\n",
              "        const buttonEl =\n",
              "          document.querySelector('#df-35a462e8-6f3d-42eb-b8d0-d531a4f8f9bc button.colab-df-convert');\n",
              "        buttonEl.style.display =\n",
              "          google.colab.kernel.accessAllowed ? 'block' : 'none';\n",
              "\n",
              "        async function convertToInteractive(key) {\n",
              "          const element = document.querySelector('#df-35a462e8-6f3d-42eb-b8d0-d531a4f8f9bc');\n",
              "          const dataTable =\n",
              "            await google.colab.kernel.invokeFunction('convertToInteractive',\n",
              "                                                     [key], {});\n",
              "          if (!dataTable) return;\n",
              "\n",
              "          const docLinkHtml = 'Like what you see? Visit the ' +\n",
              "            '<a target=\"_blank\" href=https://colab.research.google.com/notebooks/data_table.ipynb>data table notebook</a>'\n",
              "            + ' to learn more about interactive tables.';\n",
              "          element.innerHTML = '';\n",
              "          dataTable['output_type'] = 'display_data';\n",
              "          await google.colab.output.renderOutput(dataTable, element);\n",
              "          const docLink = document.createElement('div');\n",
              "          docLink.innerHTML = docLinkHtml;\n",
              "          element.appendChild(docLink);\n",
              "        }\n",
              "      </script>\n",
              "    </div>\n",
              "  </div>\n",
              "  "
            ],
            "text/plain": [
              "  category tech1  ... imageURL imageURLHighRes\n",
              "0       []        ...       []              []\n",
              "1       []        ...       []              []\n",
              "\n",
              "[2 rows x 19 columns]"
            ]
          },
          "metadata": {},
          "execution_count": 7
        }
      ]
    },
    {
      "cell_type": "code",
      "source": [
        "ratings.head(2)"
      ],
      "metadata": {
        "colab": {
          "base_uri": "https://localhost:8080/",
          "height": 0
        },
        "id": "H83e3sm1SJoR",
        "outputId": "27a1588c-0fc3-4cd2-da13-993d0acbf017"
      },
      "execution_count": 8,
      "outputs": [
        {
          "output_type": "execute_result",
          "data": {
            "text/html": [
              "\n",
              "  <div id=\"df-4e4581cc-e671-435a-aa4e-9ff7a0fc2285\">\n",
              "    <div class=\"colab-df-container\">\n",
              "      <div>\n",
              "<style scoped>\n",
              "    .dataframe tbody tr th:only-of-type {\n",
              "        vertical-align: middle;\n",
              "    }\n",
              "\n",
              "    .dataframe tbody tr th {\n",
              "        vertical-align: top;\n",
              "    }\n",
              "\n",
              "    .dataframe thead th {\n",
              "        text-align: right;\n",
              "    }\n",
              "</style>\n",
              "<table border=\"1\" class=\"dataframe\">\n",
              "  <thead>\n",
              "    <tr style=\"text-align: right;\">\n",
              "      <th></th>\n",
              "      <th>asin</th>\n",
              "      <th>reviewerID</th>\n",
              "      <th>overall</th>\n",
              "      <th>unixReviewTime</th>\n",
              "    </tr>\n",
              "  </thead>\n",
              "  <tbody>\n",
              "    <tr>\n",
              "      <th>0</th>\n",
              "      <td>0143026860</td>\n",
              "      <td>A1V6B6TNIC10QE</td>\n",
              "      <td>1.0</td>\n",
              "      <td>1424304000</td>\n",
              "    </tr>\n",
              "    <tr>\n",
              "      <th>1</th>\n",
              "      <td>0143026860</td>\n",
              "      <td>A2F5GHSXFQ0W6J</td>\n",
              "      <td>4.0</td>\n",
              "      <td>1418860800</td>\n",
              "    </tr>\n",
              "  </tbody>\n",
              "</table>\n",
              "</div>\n",
              "      <button class=\"colab-df-convert\" onclick=\"convertToInteractive('df-4e4581cc-e671-435a-aa4e-9ff7a0fc2285')\"\n",
              "              title=\"Convert this dataframe to an interactive table.\"\n",
              "              style=\"display:none;\">\n",
              "        \n",
              "  <svg xmlns=\"http://www.w3.org/2000/svg\" height=\"24px\"viewBox=\"0 0 24 24\"\n",
              "       width=\"24px\">\n",
              "    <path d=\"M0 0h24v24H0V0z\" fill=\"none\"/>\n",
              "    <path d=\"M18.56 5.44l.94 2.06.94-2.06 2.06-.94-2.06-.94-.94-2.06-.94 2.06-2.06.94zm-11 1L8.5 8.5l.94-2.06 2.06-.94-2.06-.94L8.5 2.5l-.94 2.06-2.06.94zm10 10l.94 2.06.94-2.06 2.06-.94-2.06-.94-.94-2.06-.94 2.06-2.06.94z\"/><path d=\"M17.41 7.96l-1.37-1.37c-.4-.4-.92-.59-1.43-.59-.52 0-1.04.2-1.43.59L10.3 9.45l-7.72 7.72c-.78.78-.78 2.05 0 2.83L4 21.41c.39.39.9.59 1.41.59.51 0 1.02-.2 1.41-.59l7.78-7.78 2.81-2.81c.8-.78.8-2.07 0-2.86zM5.41 20L4 18.59l7.72-7.72 1.47 1.35L5.41 20z\"/>\n",
              "  </svg>\n",
              "      </button>\n",
              "      \n",
              "  <style>\n",
              "    .colab-df-container {\n",
              "      display:flex;\n",
              "      flex-wrap:wrap;\n",
              "      gap: 12px;\n",
              "    }\n",
              "\n",
              "    .colab-df-convert {\n",
              "      background-color: #E8F0FE;\n",
              "      border: none;\n",
              "      border-radius: 50%;\n",
              "      cursor: pointer;\n",
              "      display: none;\n",
              "      fill: #1967D2;\n",
              "      height: 32px;\n",
              "      padding: 0 0 0 0;\n",
              "      width: 32px;\n",
              "    }\n",
              "\n",
              "    .colab-df-convert:hover {\n",
              "      background-color: #E2EBFA;\n",
              "      box-shadow: 0px 1px 2px rgba(60, 64, 67, 0.3), 0px 1px 3px 1px rgba(60, 64, 67, 0.15);\n",
              "      fill: #174EA6;\n",
              "    }\n",
              "\n",
              "    [theme=dark] .colab-df-convert {\n",
              "      background-color: #3B4455;\n",
              "      fill: #D2E3FC;\n",
              "    }\n",
              "\n",
              "    [theme=dark] .colab-df-convert:hover {\n",
              "      background-color: #434B5C;\n",
              "      box-shadow: 0px 1px 3px 1px rgba(0, 0, 0, 0.15);\n",
              "      filter: drop-shadow(0px 1px 2px rgba(0, 0, 0, 0.3));\n",
              "      fill: #FFFFFF;\n",
              "    }\n",
              "  </style>\n",
              "\n",
              "      <script>\n",
              "        const buttonEl =\n",
              "          document.querySelector('#df-4e4581cc-e671-435a-aa4e-9ff7a0fc2285 button.colab-df-convert');\n",
              "        buttonEl.style.display =\n",
              "          google.colab.kernel.accessAllowed ? 'block' : 'none';\n",
              "\n",
              "        async function convertToInteractive(key) {\n",
              "          const element = document.querySelector('#df-4e4581cc-e671-435a-aa4e-9ff7a0fc2285');\n",
              "          const dataTable =\n",
              "            await google.colab.kernel.invokeFunction('convertToInteractive',\n",
              "                                                     [key], {});\n",
              "          if (!dataTable) return;\n",
              "\n",
              "          const docLinkHtml = 'Like what you see? Visit the ' +\n",
              "            '<a target=\"_blank\" href=https://colab.research.google.com/notebooks/data_table.ipynb>data table notebook</a>'\n",
              "            + ' to learn more about interactive tables.';\n",
              "          element.innerHTML = '';\n",
              "          dataTable['output_type'] = 'display_data';\n",
              "          await google.colab.output.renderOutput(dataTable, element);\n",
              "          const docLink = document.createElement('div');\n",
              "          docLink.innerHTML = docLinkHtml;\n",
              "          element.appendChild(docLink);\n",
              "        }\n",
              "      </script>\n",
              "    </div>\n",
              "  </div>\n",
              "  "
            ],
            "text/plain": [
              "         asin      reviewerID  overall  unixReviewTime\n",
              "0  0143026860  A1V6B6TNIC10QE      1.0      1424304000\n",
              "1  0143026860  A2F5GHSXFQ0W6J      4.0      1418860800"
            ]
          },
          "metadata": {},
          "execution_count": 8
        }
      ]
    },
    {
      "cell_type": "markdown",
      "source": [
        "#### 對metadata處理"
      ],
      "metadata": {
        "id": "dYjFrHJOTD1S"
      }
    },
    {
      "cell_type": "code",
      "source": [
        "metadata.info()"
      ],
      "metadata": {
        "colab": {
          "base_uri": "https://localhost:8080/"
        },
        "id": "nItwLq8fTSfA",
        "outputId": "5dc8541c-88db-4a8f-c5f1-bff58c6b9811"
      },
      "execution_count": 9,
      "outputs": [
        {
          "output_type": "stream",
          "name": "stdout",
          "text": [
            "<class 'pandas.core.frame.DataFrame'>\n",
            "Int64Index: 32892 entries, 0 to 32891\n",
            "Data columns (total 19 columns):\n",
            " #   Column           Non-Null Count  Dtype \n",
            "---  ------           --------------  ----- \n",
            " 0   category         32892 non-null  object\n",
            " 1   tech1            32892 non-null  object\n",
            " 2   description      32892 non-null  object\n",
            " 3   fit              32892 non-null  object\n",
            " 4   title            32892 non-null  object\n",
            " 5   also_buy         32892 non-null  object\n",
            " 6   tech2            32892 non-null  object\n",
            " 7   brand            32892 non-null  object\n",
            " 8   feature          32892 non-null  object\n",
            " 9   rank             32892 non-null  object\n",
            " 10  also_view        32892 non-null  object\n",
            " 11  details          32892 non-null  object\n",
            " 12  main_cat         32892 non-null  object\n",
            " 13  similar_item     32892 non-null  object\n",
            " 14  date             32892 non-null  object\n",
            " 15  price            32892 non-null  object\n",
            " 16  asin             32892 non-null  object\n",
            " 17  imageURL         32892 non-null  object\n",
            " 18  imageURLHighRes  32892 non-null  object\n",
            "dtypes: object(19)\n",
            "memory usage: 5.0+ MB\n"
          ]
        }
      ]
    },
    {
      "cell_type": "code",
      "source": [
        "# metadata[metadata.applymap(str).eq('[]').T.any()]"
      ],
      "metadata": {
        "id": "ZGNoFS6ET06b"
      },
      "execution_count": 10,
      "outputs": []
    },
    {
      "cell_type": "code",
      "source": [
        "'''\n",
        "1. 空值用nan替代\n",
        "2. 移除重複\n",
        "'''\n",
        "metadata = metadata.mask(metadata.applymap(str).eq('[]')).replace('', np.nan)\n",
        "display(metadata.info())\n",
        "display(metadata.shape)\n",
        "\n",
        "metadata = metadata.astype(str).drop_duplicates().reset_index(drop = True)\n",
        "display(metadata.head(2))\n",
        "display(metadata.shape)"
      ],
      "metadata": {
        "colab": {
          "base_uri": "https://localhost:8080/",
          "height": 0
        },
        "id": "VSHtFsJcT27J",
        "outputId": "a14b6dab-698e-4c92-e64d-74a4bc6a33a1"
      },
      "execution_count": 11,
      "outputs": [
        {
          "output_type": "stream",
          "name": "stdout",
          "text": [
            "<class 'pandas.core.frame.DataFrame'>\n",
            "Int64Index: 32892 entries, 0 to 32891\n",
            "Data columns (total 19 columns):\n",
            " #   Column           Non-Null Count  Dtype  \n",
            "---  ------           --------------  -----  \n",
            " 0   category         0 non-null      float64\n",
            " 1   tech1            10 non-null     object \n",
            " 2   description      15119 non-null  object \n",
            " 3   fit              0 non-null      float64\n",
            " 4   title            32891 non-null  object \n",
            " 5   also_buy         6597 non-null   object \n",
            " 6   tech2            0 non-null      float64\n",
            " 7   brand            17219 non-null  object \n",
            " 8   feature          269 non-null    object \n",
            " 9   rank             32515 non-null  object \n",
            " 10  also_view        8132 non-null   object \n",
            " 11  details          32892 non-null  object \n",
            " 12  main_cat         32892 non-null  object \n",
            " 13  similar_item     1304 non-null   object \n",
            " 14  date             19 non-null     object \n",
            " 15  price            11459 non-null  object \n",
            " 16  asin             32892 non-null  object \n",
            " 17  imageURL         16541 non-null  object \n",
            " 18  imageURLHighRes  16541 non-null  object \n",
            "dtypes: float64(3), object(16)\n",
            "memory usage: 5.0+ MB\n"
          ]
        },
        {
          "output_type": "display_data",
          "data": {
            "text/plain": [
              "None"
            ]
          },
          "metadata": {}
        },
        {
          "output_type": "display_data",
          "data": {
            "text/plain": [
              "(32892, 19)"
            ]
          },
          "metadata": {}
        },
        {
          "output_type": "display_data",
          "data": {
            "text/html": [
              "\n",
              "  <div id=\"df-f8ebb7bc-cfd9-4539-8b47-2448736aff6d\">\n",
              "    <div class=\"colab-df-container\">\n",
              "      <div>\n",
              "<style scoped>\n",
              "    .dataframe tbody tr th:only-of-type {\n",
              "        vertical-align: middle;\n",
              "    }\n",
              "\n",
              "    .dataframe tbody tr th {\n",
              "        vertical-align: top;\n",
              "    }\n",
              "\n",
              "    .dataframe thead th {\n",
              "        text-align: right;\n",
              "    }\n",
              "</style>\n",
              "<table border=\"1\" class=\"dataframe\">\n",
              "  <thead>\n",
              "    <tr style=\"text-align: right;\">\n",
              "      <th></th>\n",
              "      <th>category</th>\n",
              "      <th>tech1</th>\n",
              "      <th>description</th>\n",
              "      <th>fit</th>\n",
              "      <th>title</th>\n",
              "      <th>also_buy</th>\n",
              "      <th>tech2</th>\n",
              "      <th>brand</th>\n",
              "      <th>feature</th>\n",
              "      <th>rank</th>\n",
              "      <th>also_view</th>\n",
              "      <th>details</th>\n",
              "      <th>main_cat</th>\n",
              "      <th>similar_item</th>\n",
              "      <th>date</th>\n",
              "      <th>price</th>\n",
              "      <th>asin</th>\n",
              "      <th>imageURL</th>\n",
              "      <th>imageURLHighRes</th>\n",
              "    </tr>\n",
              "  </thead>\n",
              "  <tbody>\n",
              "    <tr>\n",
              "      <th>0</th>\n",
              "      <td>nan</td>\n",
              "      <td>nan</td>\n",
              "      <td>[\"Loud 'N Clear Personal Sound Amplifier allow...</td>\n",
              "      <td>nan</td>\n",
              "      <td>Loud 'N Clear&amp;trade; Personal Sound Amplifier</td>\n",
              "      <td>nan</td>\n",
              "      <td>nan</td>\n",
              "      <td>idea village</td>\n",
              "      <td>nan</td>\n",
              "      <td>2,938,573 in Beauty &amp; Personal Care (</td>\n",
              "      <td>nan</td>\n",
              "      <td>{'ASIN: ': '6546546450'}</td>\n",
              "      <td>All Beauty</td>\n",
              "      <td>nan</td>\n",
              "      <td>nan</td>\n",
              "      <td>nan</td>\n",
              "      <td>6546546450</td>\n",
              "      <td>nan</td>\n",
              "      <td>nan</td>\n",
              "    </tr>\n",
              "    <tr>\n",
              "      <th>1</th>\n",
              "      <td>nan</td>\n",
              "      <td>nan</td>\n",
              "      <td>['No7 Lift &amp; Luminate Triple Action Serum 50ml...</td>\n",
              "      <td>nan</td>\n",
              "      <td>No7 Lift &amp;amp; Luminate Triple Action Serum 50...</td>\n",
              "      <td>['B01E7LCSL6', 'B008X5RVME']</td>\n",
              "      <td>nan</td>\n",
              "      <td>nan</td>\n",
              "      <td>nan</td>\n",
              "      <td>872,854 in Beauty &amp; Personal Care (</td>\n",
              "      <td>nan</td>\n",
              "      <td>{'Shipping Weight:': '0.3 ounces (', 'ASIN: ':...</td>\n",
              "      <td>All Beauty</td>\n",
              "      <td>class=\"a-bordered a-horizontal-stripes  a-spa...</td>\n",
              "      <td>nan</td>\n",
              "      <td>$44.99</td>\n",
              "      <td>7178680776</td>\n",
              "      <td>nan</td>\n",
              "      <td>nan</td>\n",
              "    </tr>\n",
              "  </tbody>\n",
              "</table>\n",
              "</div>\n",
              "      <button class=\"colab-df-convert\" onclick=\"convertToInteractive('df-f8ebb7bc-cfd9-4539-8b47-2448736aff6d')\"\n",
              "              title=\"Convert this dataframe to an interactive table.\"\n",
              "              style=\"display:none;\">\n",
              "        \n",
              "  <svg xmlns=\"http://www.w3.org/2000/svg\" height=\"24px\"viewBox=\"0 0 24 24\"\n",
              "       width=\"24px\">\n",
              "    <path d=\"M0 0h24v24H0V0z\" fill=\"none\"/>\n",
              "    <path d=\"M18.56 5.44l.94 2.06.94-2.06 2.06-.94-2.06-.94-.94-2.06-.94 2.06-2.06.94zm-11 1L8.5 8.5l.94-2.06 2.06-.94-2.06-.94L8.5 2.5l-.94 2.06-2.06.94zm10 10l.94 2.06.94-2.06 2.06-.94-2.06-.94-.94-2.06-.94 2.06-2.06.94z\"/><path d=\"M17.41 7.96l-1.37-1.37c-.4-.4-.92-.59-1.43-.59-.52 0-1.04.2-1.43.59L10.3 9.45l-7.72 7.72c-.78.78-.78 2.05 0 2.83L4 21.41c.39.39.9.59 1.41.59.51 0 1.02-.2 1.41-.59l7.78-7.78 2.81-2.81c.8-.78.8-2.07 0-2.86zM5.41 20L4 18.59l7.72-7.72 1.47 1.35L5.41 20z\"/>\n",
              "  </svg>\n",
              "      </button>\n",
              "      \n",
              "  <style>\n",
              "    .colab-df-container {\n",
              "      display:flex;\n",
              "      flex-wrap:wrap;\n",
              "      gap: 12px;\n",
              "    }\n",
              "\n",
              "    .colab-df-convert {\n",
              "      background-color: #E8F0FE;\n",
              "      border: none;\n",
              "      border-radius: 50%;\n",
              "      cursor: pointer;\n",
              "      display: none;\n",
              "      fill: #1967D2;\n",
              "      height: 32px;\n",
              "      padding: 0 0 0 0;\n",
              "      width: 32px;\n",
              "    }\n",
              "\n",
              "    .colab-df-convert:hover {\n",
              "      background-color: #E2EBFA;\n",
              "      box-shadow: 0px 1px 2px rgba(60, 64, 67, 0.3), 0px 1px 3px 1px rgba(60, 64, 67, 0.15);\n",
              "      fill: #174EA6;\n",
              "    }\n",
              "\n",
              "    [theme=dark] .colab-df-convert {\n",
              "      background-color: #3B4455;\n",
              "      fill: #D2E3FC;\n",
              "    }\n",
              "\n",
              "    [theme=dark] .colab-df-convert:hover {\n",
              "      background-color: #434B5C;\n",
              "      box-shadow: 0px 1px 3px 1px rgba(0, 0, 0, 0.15);\n",
              "      filter: drop-shadow(0px 1px 2px rgba(0, 0, 0, 0.3));\n",
              "      fill: #FFFFFF;\n",
              "    }\n",
              "  </style>\n",
              "\n",
              "      <script>\n",
              "        const buttonEl =\n",
              "          document.querySelector('#df-f8ebb7bc-cfd9-4539-8b47-2448736aff6d button.colab-df-convert');\n",
              "        buttonEl.style.display =\n",
              "          google.colab.kernel.accessAllowed ? 'block' : 'none';\n",
              "\n",
              "        async function convertToInteractive(key) {\n",
              "          const element = document.querySelector('#df-f8ebb7bc-cfd9-4539-8b47-2448736aff6d');\n",
              "          const dataTable =\n",
              "            await google.colab.kernel.invokeFunction('convertToInteractive',\n",
              "                                                     [key], {});\n",
              "          if (!dataTable) return;\n",
              "\n",
              "          const docLinkHtml = 'Like what you see? Visit the ' +\n",
              "            '<a target=\"_blank\" href=https://colab.research.google.com/notebooks/data_table.ipynb>data table notebook</a>'\n",
              "            + ' to learn more about interactive tables.';\n",
              "          element.innerHTML = '';\n",
              "          dataTable['output_type'] = 'display_data';\n",
              "          await google.colab.output.renderOutput(dataTable, element);\n",
              "          const docLink = document.createElement('div');\n",
              "          docLink.innerHTML = docLinkHtml;\n",
              "          element.appendChild(docLink);\n",
              "        }\n",
              "      </script>\n",
              "    </div>\n",
              "  </div>\n",
              "  "
            ],
            "text/plain": [
              "  category tech1  ... imageURL imageURLHighRes\n",
              "0      nan   nan  ...      nan             nan\n",
              "1      nan   nan  ...      nan             nan\n",
              "\n",
              "[2 rows x 19 columns]"
            ]
          },
          "metadata": {}
        },
        {
          "output_type": "display_data",
          "data": {
            "text/plain": [
              "(32488, 19)"
            ]
          },
          "metadata": {}
        }
      ]
    },
    {
      "cell_type": "markdown",
      "source": [
        "#### 對ratings處理 (資料切分)"
      ],
      "metadata": {
        "id": "33Si8qJXSCp8"
      }
    },
    {
      "cell_type": "code",
      "source": [
        "# 十位數轉時間指標\n",
        "ratings['DATE'] = pd.to_datetime(ratings['unixReviewTime'],unit = 's')"
      ],
      "metadata": {
        "id": "mSPyw6dBSLrH"
      },
      "execution_count": 12,
      "outputs": []
    },
    {
      "cell_type": "code",
      "source": [
        "'''\n",
        "提供使用者購買商品的紀錄\n",
        "'''\n",
        "ratings.head(2)"
      ],
      "metadata": {
        "colab": {
          "base_uri": "https://localhost:8080/",
          "height": 112
        },
        "id": "0vCeT_hKSNJM",
        "outputId": "731ecea5-d851-4d98-ecf2-f3789415b679"
      },
      "execution_count": 13,
      "outputs": [
        {
          "output_type": "execute_result",
          "data": {
            "text/html": [
              "\n",
              "  <div id=\"df-c039c7d3-cb39-487c-9147-f16b42a64bbf\">\n",
              "    <div class=\"colab-df-container\">\n",
              "      <div>\n",
              "<style scoped>\n",
              "    .dataframe tbody tr th:only-of-type {\n",
              "        vertical-align: middle;\n",
              "    }\n",
              "\n",
              "    .dataframe tbody tr th {\n",
              "        vertical-align: top;\n",
              "    }\n",
              "\n",
              "    .dataframe thead th {\n",
              "        text-align: right;\n",
              "    }\n",
              "</style>\n",
              "<table border=\"1\" class=\"dataframe\">\n",
              "  <thead>\n",
              "    <tr style=\"text-align: right;\">\n",
              "      <th></th>\n",
              "      <th>asin</th>\n",
              "      <th>reviewerID</th>\n",
              "      <th>overall</th>\n",
              "      <th>unixReviewTime</th>\n",
              "      <th>DATE</th>\n",
              "    </tr>\n",
              "  </thead>\n",
              "  <tbody>\n",
              "    <tr>\n",
              "      <th>0</th>\n",
              "      <td>0143026860</td>\n",
              "      <td>A1V6B6TNIC10QE</td>\n",
              "      <td>1.0</td>\n",
              "      <td>1424304000</td>\n",
              "      <td>2015-02-19</td>\n",
              "    </tr>\n",
              "    <tr>\n",
              "      <th>1</th>\n",
              "      <td>0143026860</td>\n",
              "      <td>A2F5GHSXFQ0W6J</td>\n",
              "      <td>4.0</td>\n",
              "      <td>1418860800</td>\n",
              "      <td>2014-12-18</td>\n",
              "    </tr>\n",
              "  </tbody>\n",
              "</table>\n",
              "</div>\n",
              "      <button class=\"colab-df-convert\" onclick=\"convertToInteractive('df-c039c7d3-cb39-487c-9147-f16b42a64bbf')\"\n",
              "              title=\"Convert this dataframe to an interactive table.\"\n",
              "              style=\"display:none;\">\n",
              "        \n",
              "  <svg xmlns=\"http://www.w3.org/2000/svg\" height=\"24px\"viewBox=\"0 0 24 24\"\n",
              "       width=\"24px\">\n",
              "    <path d=\"M0 0h24v24H0V0z\" fill=\"none\"/>\n",
              "    <path d=\"M18.56 5.44l.94 2.06.94-2.06 2.06-.94-2.06-.94-.94-2.06-.94 2.06-2.06.94zm-11 1L8.5 8.5l.94-2.06 2.06-.94-2.06-.94L8.5 2.5l-.94 2.06-2.06.94zm10 10l.94 2.06.94-2.06 2.06-.94-2.06-.94-.94-2.06-.94 2.06-2.06.94z\"/><path d=\"M17.41 7.96l-1.37-1.37c-.4-.4-.92-.59-1.43-.59-.52 0-1.04.2-1.43.59L10.3 9.45l-7.72 7.72c-.78.78-.78 2.05 0 2.83L4 21.41c.39.39.9.59 1.41.59.51 0 1.02-.2 1.41-.59l7.78-7.78 2.81-2.81c.8-.78.8-2.07 0-2.86zM5.41 20L4 18.59l7.72-7.72 1.47 1.35L5.41 20z\"/>\n",
              "  </svg>\n",
              "      </button>\n",
              "      \n",
              "  <style>\n",
              "    .colab-df-container {\n",
              "      display:flex;\n",
              "      flex-wrap:wrap;\n",
              "      gap: 12px;\n",
              "    }\n",
              "\n",
              "    .colab-df-convert {\n",
              "      background-color: #E8F0FE;\n",
              "      border: none;\n",
              "      border-radius: 50%;\n",
              "      cursor: pointer;\n",
              "      display: none;\n",
              "      fill: #1967D2;\n",
              "      height: 32px;\n",
              "      padding: 0 0 0 0;\n",
              "      width: 32px;\n",
              "    }\n",
              "\n",
              "    .colab-df-convert:hover {\n",
              "      background-color: #E2EBFA;\n",
              "      box-shadow: 0px 1px 2px rgba(60, 64, 67, 0.3), 0px 1px 3px 1px rgba(60, 64, 67, 0.15);\n",
              "      fill: #174EA6;\n",
              "    }\n",
              "\n",
              "    [theme=dark] .colab-df-convert {\n",
              "      background-color: #3B4455;\n",
              "      fill: #D2E3FC;\n",
              "    }\n",
              "\n",
              "    [theme=dark] .colab-df-convert:hover {\n",
              "      background-color: #434B5C;\n",
              "      box-shadow: 0px 1px 3px 1px rgba(0, 0, 0, 0.15);\n",
              "      filter: drop-shadow(0px 1px 2px rgba(0, 0, 0, 0.3));\n",
              "      fill: #FFFFFF;\n",
              "    }\n",
              "  </style>\n",
              "\n",
              "      <script>\n",
              "        const buttonEl =\n",
              "          document.querySelector('#df-c039c7d3-cb39-487c-9147-f16b42a64bbf button.colab-df-convert');\n",
              "        buttonEl.style.display =\n",
              "          google.colab.kernel.accessAllowed ? 'block' : 'none';\n",
              "\n",
              "        async function convertToInteractive(key) {\n",
              "          const element = document.querySelector('#df-c039c7d3-cb39-487c-9147-f16b42a64bbf');\n",
              "          const dataTable =\n",
              "            await google.colab.kernel.invokeFunction('convertToInteractive',\n",
              "                                                     [key], {});\n",
              "          if (!dataTable) return;\n",
              "\n",
              "          const docLinkHtml = 'Like what you see? Visit the ' +\n",
              "            '<a target=\"_blank\" href=https://colab.research.google.com/notebooks/data_table.ipynb>data table notebook</a>'\n",
              "            + ' to learn more about interactive tables.';\n",
              "          element.innerHTML = '';\n",
              "          dataTable['output_type'] = 'display_data';\n",
              "          await google.colab.output.renderOutput(dataTable, element);\n",
              "          const docLink = document.createElement('div');\n",
              "          docLink.innerHTML = docLinkHtml;\n",
              "          element.appendChild(docLink);\n",
              "        }\n",
              "      </script>\n",
              "    </div>\n",
              "  </div>\n",
              "  "
            ],
            "text/plain": [
              "         asin      reviewerID  overall  unixReviewTime       DATE\n",
              "0  0143026860  A1V6B6TNIC10QE      1.0      1424304000 2015-02-19\n",
              "1  0143026860  A2F5GHSXFQ0W6J      4.0      1418860800 2014-12-18"
            ]
          },
          "metadata": {},
          "execution_count": 13
        }
      ]
    },
    {
      "cell_type": "code",
      "source": [
        "'''\n",
        "這次與上次不同，不特別只取一個月內的資料\n",
        "'''\n",
        "ratings_trainings = ratings.query('DATE < \"2018-09-01\" ')\n",
        "ratings_testings = ratings.query('DATE <= \"2018-09-30\" & DATE >= \"2018-09-01\" ')\n",
        "print('ratings_trainings:', ratings_trainings.shape)\n",
        "print('ratings_testings:', ratings_testings.shape)\n",
        "ratings_testings_by_user = ratings_testings.groupby('reviewerID').agg(list).reset_index()[['reviewerID', 'asin']].to_dict('records')\n",
        "display(ratings_testings_by_user[1])\n",
        "ratings_testings_by_user = { rating['reviewerID']: rating['asin'] for rating in ratings_testings_by_user }\n",
        "users = list(ratings_testings_by_user.keys())\n",
        "display(users[:5])"
      ],
      "metadata": {
        "colab": {
          "base_uri": "https://localhost:8080/",
          "height": 156
        },
        "id": "nF3tnEYoSOij",
        "outputId": "604ddf05-610b-4462-e701-80eda7a93d26"
      },
      "execution_count": 14,
      "outputs": [
        {
          "output_type": "stream",
          "name": "stdout",
          "text": [
            "ratings_trainings: (370752, 5)\n",
            "ratings_testings: (590, 5)\n"
          ]
        },
        {
          "output_type": "display_data",
          "data": {
            "text/plain": [
              "{'asin': ['B01DKQAXC0'], 'reviewerID': 'A103T1QOGFCSEH'}"
            ]
          },
          "metadata": {}
        },
        {
          "output_type": "display_data",
          "data": {
            "text/plain": [
              "['A100XQFWKQ30O2',\n",
              " 'A103T1QOGFCSEH',\n",
              " 'A106UKKSJ2KXPF',\n",
              " 'A10A7GV4D5A11V',\n",
              " 'A1119JJ37ZLB8R']"
            ]
          },
          "metadata": {}
        }
      ]
    },
    {
      "cell_type": "markdown",
      "source": [
        "### 推薦-User-based collaborative filtering"
      ],
      "metadata": {
        "id": "-pFZIstBZsx_"
      }
    },
    {
      "cell_type": "code",
      "source": [
        "class User_based:\n",
        "\n",
        "  # 移除重複的使用者，並只保留每位使用者最新的評論\n",
        "  def __init__(self, training_data):\n",
        "    self.training_data = training_data.sort_values('DATE', ascending = False).groupby(by = ['asin','reviewerID']).head(1)\n",
        "  \n",
        "  # \n",
        "  def user_recommender(self, users=[], k=10):\n",
        "\n",
        "\n",
        "    user_to_items = defaultdict(dict)\n",
        "    for _, row in self.training_data.iterrows():\n",
        "      row = dict(row)\n",
        "      user = row['reviewerID']\n",
        "      item = row['asin']\n",
        "      rating = float(row['overall'])\n",
        "\n",
        "      user_to_items[user][item] = rating\n",
        "    \n",
        "    print(\"total users before filtering: \", len(user_to_items))\n",
        "\n",
        "    # remove obscure user to decrease data size\n",
        "    # filtering params\n",
        "\n",
        "    # filter掉n<3的使用者\n",
        "\n",
        "    remove_obscure_user = True\n",
        "    user_rating_threshold = 3\n",
        "\n",
        "    all_users = list(user_to_items.keys())\n",
        "    for user in all_users:\n",
        "      ratings = user_to_items[user]\n",
        "      if remove_obscure_user and len(ratings) < user_rating_threshold:\n",
        "        del user_to_items[user]\n",
        "    print(\"total users  after filtering: \", len(user_to_items))\n",
        "\n",
        "    # generate item to user mapping dict\n",
        "    # {\n",
        "    #   'item': {\n",
        "    #       'user': ratings...\n",
        "    #   }...\n",
        "    # }\n",
        "\n",
        "    item_to_users = defaultdict(dict)\n",
        "    for user, items in user_to_items.items():\n",
        "      for item, rating in items.items():\n",
        "        item_to_users[item][user] = rating\n",
        "\n",
        "    # prepare data of computing user similarity\n",
        "    init_sim = lambda: [0 for _ in range(3)]\n",
        "    factory = lambda: defaultdict(init_sim)\n",
        "    pre_user_similarity = defaultdict(factory)\n",
        "    n = len(item_to_users)\n",
        "    index = 0\n",
        "\n",
        "    for item, user_ratings in item_to_users.items():\n",
        "      if len(user_ratings) > 1:\n",
        "        # print(f\"item: {item} have been rated by {len(user_ratings)} users progress: {index}/{n}\")\n",
        "        for user1, user2 in combinations(user_ratings.keys(), 2):\n",
        "          xy = user_ratings[user1] * user_ratings[user2]\n",
        "          xx = user_ratings[user1] ** 2\n",
        "          yy = user_ratings[user2] ** 2\n",
        "          pre_user_similarity[user1][user2][0] += xy\n",
        "          pre_user_similarity[user1][user2][1] += xx\n",
        "          pre_user_similarity[user1][user2][2] += yy\n",
        "\n",
        "          pre_user_similarity[user2][user1][0] += xy\n",
        "          pre_user_similarity[user2][user1][1] += xx\n",
        "          pre_user_similarity[user2][user1][2] += yy\n",
        "      index += 1\n",
        "\n",
        "    # 建立user_similarity，並用於找出「相似行為使用者」買過的產品，且「被推薦者」還沒購買的\n",
        "    user_similarity = {}\n",
        "    for src_user in pre_user_similarity:\n",
        "      user_similarity_order = []\n",
        "      for dst_user, val in pre_user_similarity[src_user].items():\n",
        "        xy = val[0]\n",
        "        xx = val[1]\n",
        "        yy = val[2]\n",
        "        div = ((xx*yy) ** 0.5)\n",
        "        if div == 0:\n",
        "          continue\n",
        "        similarity = xy / div\n",
        "\n",
        "        if similarity < 0:\n",
        "          continue\n",
        "\n",
        "        for i, s in enumerate(user_similarity_order):\n",
        "          target_similarity = s[1]\n",
        "          if target_similarity < similarity:\n",
        "            user_similarity_order.insert(i, (dst_user, similarity))\n",
        "            break\n",
        "        else:\n",
        "          user_similarity_order.append((dst_user, similarity))\n",
        "      user_similarity[src_user] = user_similarity_order\n",
        "    \n",
        "    # 建立推薦系統\n",
        "    recommendation = {}\n",
        "    for user in users:\n",
        "      if user in user_similarity:\n",
        "        sim_users = user_similarity[user]\n",
        "        recommended_items = []\n",
        "        recommended_items_set = set()\n",
        "        user_have_rated = set(user_to_items[user])\n",
        "        stop_recommend = False\n",
        "\n",
        "        for sim_user, _ in sim_users:\n",
        "          items_from_sim_user = sorted(list(user_to_items[sim_user].items()), key=lambda item: item[1])\n",
        "          for item, _ in items_from_sim_user:\n",
        "            if item not in user_have_rated and item not in recommended_items_set:\n",
        "              recommended_items.append(item)\n",
        "              recommended_items_set.add(item)\n",
        "\n",
        "            # 如果推薦超過K個商品 \n",
        "            if len(recommended_items) >= k:\n",
        "              stop_recommend = True\n",
        "              break\n",
        "          # 如果停止推薦，迴圈也終止\n",
        "          if stop_recommend:\n",
        "            break\n",
        "        # 產生推薦\n",
        "        recommendation[user] = recommended_items\n",
        "      # 如果沒有在 user_similarity中，回傳[]\n",
        "      else:\n",
        "        recommendation[user] = []\n",
        "    return recommendation\n",
        "\n",
        "  # evaluate\n",
        "  def user_evaluate(self, ratings_testings_by_user={}, ratings_by_user={}, method=None):\n",
        "\n",
        "    '''\n",
        "    ratings_testings_by_user: dict 真實被購買的商品資料（2018-09-01 以後資料）\n",
        "    ratings_by_user: dict 利用訓練資料學習的推薦商品\n",
        "    method: str\n",
        "    score: float\n",
        "    '''\n",
        "    total = 0\n",
        "    for d in ratings_testings_by_user:\n",
        "      if d in ratings_by_user:\n",
        "        total += len(set(ratings_by_user[d]) & set(ratings_testings_by_user[d]))\n",
        "    score = total / len(ratings_testings)\n",
        "    return score"
      ],
      "metadata": {
        "id": "FBD7Gz6YSQII"
      },
      "execution_count": 15,
      "outputs": []
    },
    {
      "cell_type": "code",
      "source": [
        "# ratings_trainings.sort_values('DATE', ascending = False).groupby(by = ['asin','reviewerID']).head(1)"
      ],
      "metadata": {
        "id": "G8zAFxVq7QFW"
      },
      "execution_count": 16,
      "outputs": []
    },
    {
      "cell_type": "code",
      "source": [
        "user_based = User_based(ratings_trainings)\n",
        "ratings_by_user = user_based.user_recommender(users)\n",
        "print('user_based：{recall}'.format( recall = user_based.user_evaluate(ratings_testings_by_user, ratings_by_user)))"
      ],
      "metadata": {
        "colab": {
          "base_uri": "https://localhost:8080/"
        },
        "id": "EDvJqQMV7SaA",
        "outputId": "4dfc7517-5fa3-45ba-b4bd-071f78c264fc"
      },
      "execution_count": 17,
      "outputs": [
        {
          "output_type": "stream",
          "name": "stdout",
          "text": [
            "total users before filtering:  323489\n",
            "total users  after filtering:  4793\n",
            "user_based：0.0\n"
          ]
        }
      ]
    },
    {
      "cell_type": "markdown",
      "source": [
        "推薦-Item-based collaborative filtering"
      ],
      "metadata": {
        "id": "M7kSbZfLR546"
      }
    },
    {
      "cell_type": "code",
      "source": [
        "class Item_based:\n",
        "\n",
        "  # 移除重複的使用者，並只保留每位使用者最新的評論\n",
        "  def __init__(self, training_data):\n",
        "    self.training_data = training_data.sort_values('DATE', ascending = False).groupby(by = ['asin','reviewerID']).head(1)\n",
        "  \n",
        "  # \n",
        "  def item_recommender(self, users=[], k=10):\n",
        "\n",
        "\n",
        "    item_to_users = defaultdict(dict)\n",
        "    for _, row in self.training_data.iterrows():\n",
        "      row = dict(row)\n",
        "      user = row['reviewerID']\n",
        "      item = row['asin']\n",
        "      rating = float(row['overall'])\n",
        "\n",
        "      item_to_users[item][user] = rating\n",
        "    \n",
        "    print(\"data converted\")\n",
        "\n",
        "    user_to_items = defaultdict(dict)\n",
        "    for item, rating_users in item_to_users.items():\n",
        "      for user, rating in rating_users.items():\n",
        "        user_to_items[user][item] = rating\n",
        "    print(\"data inverted\")\n",
        "\n",
        "    init_sim = lambda: [0, 0, 0]\n",
        "    factory = lambda: defaultdict(init_sim)\n",
        "    pre_item_similarity = defaultdict(factory)\n",
        "\n",
        "    for user, items in user_to_items.items():\n",
        "      if len(items) > 1:\n",
        "        for i1, i2 in combinations(items.keys(), 2):\n",
        "          xy = items[i1] * items[i2]\n",
        "          xx = items[i1] ** 2\n",
        "          yy = items[i2] ** 2\n",
        "          pre_item_similarity[i1][i2][0] += xy\n",
        "          pre_item_similarity[i1][i2][1] += xx\n",
        "          pre_item_similarity[i1][i2][2] += yy\n",
        "\n",
        "          pre_item_similarity[i2][i1][0] += xy\n",
        "          pre_item_similarity[i2][i1][1] += xx\n",
        "          pre_item_similarity[i2][i1][2] += yy\n",
        "    print(\"sim data prepared\")\n",
        "\n",
        "    item_similarity = {}\n",
        "    for src_item in pre_item_similarity:\n",
        "      item_similarity_order = []\n",
        "      for dst_item, val in pre_item_similarity[src_item].items():\n",
        "        xy = val[0]\n",
        "        xx = val[1]\n",
        "        yy = val[2]\n",
        "        div = ((xx*yy) ** 0.5)\n",
        "        if div == 0:\n",
        "          continue\n",
        "        similarity = xy / div\n",
        "        if similarity < 0:\n",
        "          continue\n",
        "        for i, s in enumerate(item_similarity_order):\n",
        "          target_similarity = s[1]\n",
        "          if target_similarity < similarity:\n",
        "            item_similarity_order.insert(i, (dst_item, similarity))\n",
        "            break\n",
        "          else:\n",
        "            item_similarity_order.append((dst_item, similarity))\n",
        "        item_similarity[src_item] = item_similarity_order\n",
        "    \n",
        "    # 建立推薦系統\n",
        "    recommendation = {}\n",
        "    for user in users:\n",
        "      items = []\n",
        "      items_set = set()\n",
        "      stop = False\n",
        "      user_has_rated = set(user_to_items[user])\n",
        "      for item in user_has_rated:\n",
        "        if item in item_similarity:\n",
        "          for sim_item, _ in item_similarity[item]:\n",
        "            # skip the item user has rated\n",
        "            if sim_item not in user_has_rated and sim_item not in items_set:\n",
        "              items.append(sim_item)\n",
        "              items_set.add(sim_item)\n",
        "            if len(items) >= k:\n",
        "              stop = True\n",
        "              break\n",
        "          if stop:\n",
        "            break\n",
        "      recommendation[user] = items\n",
        "    return recommendation\n",
        "\n",
        "  # evaluate\n",
        "  def user_evaluate(self, ratings_testings_by_user={}, ratings_by_user={}, method=None):\n",
        "\n",
        "    '''\n",
        "    ratings_testings_by_user: dict 真實被購買的商品資料（2018-09-01 以後資料）\n",
        "    ratings_by_user: dict 利用訓練資料學習的推薦商品\n",
        "    method: str\n",
        "    score: float\n",
        "    '''\n",
        "    total = 0\n",
        "    for d in ratings_testings_by_user:\n",
        "      if d in ratings_by_user:\n",
        "        total += len(set(ratings_by_user[d]) & set(ratings_testings_by_user[d]))\n",
        "    score = total / len(ratings_testings)\n",
        "    return score"
      ],
      "metadata": {
        "id": "nKVX8HsrR5aE"
      },
      "execution_count": 18,
      "outputs": []
    },
    {
      "cell_type": "code",
      "source": [
        "item_based = Item_based(ratings_trainings)\n",
        "ratings_by_user = item_based.item_recommender(users)\n",
        "print('item_based：{recall}'.format( recall = item_based.user_evaluate(ratings_testings_by_user, ratings_by_user)))"
      ],
      "metadata": {
        "colab": {
          "base_uri": "https://localhost:8080/"
        },
        "id": "2p6QBHoMMkBQ",
        "outputId": "6bf71e4a-5836-46ad-ca1d-4132990ef19c"
      },
      "execution_count": 19,
      "outputs": [
        {
          "output_type": "stream",
          "name": "stdout",
          "text": [
            "data converted\n",
            "data inverted\n",
            "sim data prepared\n",
            "item_based：0.0\n"
          ]
        }
      ]
    },
    {
      "cell_type": "markdown",
      "source": [
        "### 推薦-surprise collaborative filtering"
      ],
      "metadata": {
        "id": "9XakS_yUYxuI"
      }
    },
    {
      "cell_type": "code",
      "source": [
        "class Surprise_based:\n",
        "\n",
        "  # 移除重複的使用者，並只保留每位使用者最新的評論\n",
        "  def __init__(self, training_data):\n",
        "    self.training_data = training_data.sort_values('DATE', ascending = False).groupby(by = ['asin','reviewerID']).head(1)\n",
        "  \n",
        "  # \n",
        "  def surprise_recommender(self, users=[], k=10, user_based=False, algo=KNNBasic):\n",
        "\n",
        "    reader = Reader(rating_scale=(0, 5))\n",
        "    # 因為資料量過大造成記憶體不足，所以取至2017-09-01\n",
        "    # self.data = self.training_data[['reviewerID', 'asin', 'overall']]\n",
        "    training_data = self.training_data.query('DATE >= \"2017-09-01\"')[['reviewerID', 'asin', 'overall']]\n",
        "    data = Dataset.load_from_df(training_data, reader=reader)\n",
        "    \n",
        "    #計算相似度 \n",
        "    sim_options = {\n",
        "        'name': 'cosine',\n",
        "        'user_based': user_based\n",
        "    }\n",
        "\n",
        "    algo_impl = algo(sim_options = sim_options)\n",
        "    trainset = data.build_full_trainset()\n",
        "    algo_impl.fit(trainset)\n",
        "\n",
        "    # 建立推薦系統\n",
        "    recommendation = {}\n",
        "    \n",
        "\n",
        "    for user in users:\n",
        "      items_user_rated = set(training_data.loc[training_data['reviewerID'] == user]['asin'].to_list())\n",
        "      recommend_item_list = []\n",
        "      recommend_item_set = set()\n",
        "      for item in items_user_rated:\n",
        "        iid = algo_impl.trainset.to_inner_iid(item)\n",
        "        recommend_items_iid = algo_impl.get_neighbors(iid, k)\n",
        "        for sim_item_iid in recommend_items_iid:\n",
        "          item_raw_id = algo_impl.trainset.to_raw_iid(sim_item_iid)\n",
        "          if item_raw_id not in items_user_rated and item_raw_id not in recommend_item_set:\n",
        "            recommend_item_list.append(item_raw_id)\n",
        "            recommend_item_set.add(item_raw_id)\n",
        "        if len(recommend_item_list) >= k:\n",
        "          recommend_item_list = recommend_item_list[:k]\n",
        "          break\n",
        "\n",
        "      recommendation[user] = recommend_item_list\n",
        "    return recommendation\n",
        "\n",
        "  # evaluate\n",
        "  def user_evaluate(self, ratings_testings_by_user={}, ratings_by_user={}, method=None):\n",
        "\n",
        "    '''\n",
        "    ratings_testings_by_user: dict 真實被購買的商品資料（2018-09-01 以後資料）\n",
        "    ratings_by_user: dict 利用訓練資料學習的推薦商品\n",
        "    method: str\n",
        "    score: float\n",
        "    '''\n",
        "    total = 0\n",
        "    for d in ratings_testings_by_user:\n",
        "      if d in ratings_by_user:\n",
        "        total += len(set(ratings_by_user[d]) & set(ratings_testings_by_user[d]))\n",
        "    score = total / len(ratings_testings)\n",
        "    return score"
      ],
      "metadata": {
        "id": "H34fSFtnXSi-"
      },
      "execution_count": 24,
      "outputs": []
    },
    {
      "cell_type": "code",
      "source": [
        "surprise_based = Surprise_based(ratings_trainings)\n",
        "ratings_by_user = surprise_based.surprise_recommender(users)\n",
        "print('surprise_based：{recall}'.format( recall = surprise_based.user_evaluate(ratings_testings_by_user, ratings_by_user)))"
      ],
      "metadata": {
        "colab": {
          "base_uri": "https://localhost:8080/"
        },
        "id": "O-h1gGobZRTT",
        "outputId": "845c1a89-8575-4a58-9b83-ed6ad7c12a54"
      },
      "execution_count": 25,
      "outputs": [
        {
          "output_type": "stream",
          "name": "stdout",
          "text": [
            "Computing the cosine similarity matrix...\n",
            "Done computing similarity matrix.\n",
            "surprise_based：0.001694915254237288\n"
          ]
        }
      ]
    },
    {
      "cell_type": "code",
      "source": [
        ""
      ],
      "metadata": {
        "id": "5vN9SCVccKIb"
      },
      "execution_count": null,
      "outputs": []
    }
  ]
}
